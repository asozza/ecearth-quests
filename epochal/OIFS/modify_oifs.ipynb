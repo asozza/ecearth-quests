{
 "cells": [
  {
   "cell_type": "code",
   "execution_count": 8,
   "id": "2754da84",
   "metadata": {},
   "outputs": [
    {
     "name": "stdout",
     "output_type": "stream",
     "text": [
      "Converting to netcdf file /lus/h2resw01/hpcperm/ccpd/ECE4-DATA/oifs/TL63L31/climate.v020/ICMCLECE4\n",
      "Modifying GRIB file /lus/h2resw01/hpcperm/ccpd/ECE4-DATA/oifs/TL63L31/climate.v020/ICMCLECE4 using function modify_value\n",
      "Modifying variable al in the field\n",
      "Converting back to GRIB file /lus/h2resw01/scratch/ccpd/cdoPycdeiwlc5\n"
     ]
    },
    {
     "name": "stderr",
     "output_type": "stream",
     "text": [
      "/etc/ecmwf/nfs/dh1_home_b/ccpd/stece/epochal/OIFS/utils.py:81: SerializationWarning: Unable to decode time axis into full numpy.datetime64[ns] objects, continuing using cftime.datetime objects instead, reason: dates out of range. To silence this warning use a coarser resolution 'time_unit' or specify 'use_cftime=True'.\n",
      "  field = xr.open_dataset(netcdf,  engine=\"netcdf4\")\n"
     ]
    },
    {
     "name": "stdout",
     "output_type": "stream",
     "text": [
      "Converting to netcdf file /lus/h2resw01/hpcperm/ccpd/ECE4-DATA-test/oifs/TL63L31/climate.v020/ICMCLECE4_temp\n",
      "Modifying GRIB file /lus/h2resw01/hpcperm/ccpd/ECE4-DATA-test/oifs/TL63L31/climate.v020/ICMCLECE4_temp using function modify_value\n",
      "Modifying variable aluvp in the field\n",
      "Modifying variable aluvd in the field\n",
      "Modifying variable alnip in the field\n",
      "Modifying variable alnid in the field\n",
      "Converting back to GRIB file /lus/h2resw01/scratch/ccpd/cdoPyy8jvchw6\n"
     ]
    },
    {
     "name": "stderr",
     "output_type": "stream",
     "text": [
      "/etc/ecmwf/nfs/dh1_home_b/ccpd/stece/epochal/OIFS/utils.py:81: SerializationWarning: Unable to decode time axis into full numpy.datetime64[ns] objects, continuing using cftime.datetime objects instead, reason: dates out of range. To silence this warning use a coarser resolution 'time_unit' or specify 'use_cftime=True'.\n",
      "  field = xr.open_dataset(netcdf,  engine=\"netcdf4\")\n"
     ]
    },
    {
     "name": "stdout",
     "output_type": "stream",
     "text": [
      "Converting to netcdf file /lus/h2resw01/hpcperm/ccpd/ECE4-DATA/oifs/TL63L31/19900101/ICMSHECE4INIT\n",
      "Modifying GRIB file /lus/h2resw01/hpcperm/ccpd/ECE4-DATA/oifs/TL63L31/19900101/ICMSHECE4INIT using function modify_value\n",
      "Modifying variable z in the field\n",
      "Converting back to GRIB file /lus/h2resw01/scratch/ccpd/cdoPya93jxr1t\n",
      "Converting to netcdf file /lus/h2resw01/hpcperm/ccpd/ECE4-DATA/oifs/TL63L31/19900101/ICMGGECE4INIT\n",
      "Modifying GRIB file /lus/h2resw01/hpcperm/ccpd/ECE4-DATA/oifs/TL63L31/19900101/ICMGGECE4INIT using function modify_value\n",
      "Modifying variable sdor in the field\n",
      "Modifying variable anor in the field\n",
      "Modifying variable isor in the field\n",
      "Modifying variable slor in the field\n",
      "Modifying variable lsm in the field\n",
      "Converting back to GRIB file /lus/h2resw01/scratch/ccpd/cdoPyw4l41aln\n",
      "Converting to netcdf file /lus/h2resw01/hpcperm/ccpd/ECE4-DATA/oifs/TL63L31/19900101/ICMGGECE4INIUA\n",
      "Modifying GRIB file /lus/h2resw01/hpcperm/ccpd/ECE4-DATA/oifs/TL63L31/19900101/ICMGGECE4INIUA using function modify_value\n",
      "Modifying variable q in the field\n",
      "Converting back to GRIB file /lus/h2resw01/scratch/ccpd/cdoPyp9r9mqnm\n",
      "t,d,vo,lnsp\n"
     ]
    }
   ],
   "source": [
    "import numpy as np\n",
    "import os\n",
    "from utils import modify_single_grib, truncate_grib_file\n",
    "from cdo import Cdo\n",
    "cdo = Cdo()\n",
    "cdo.debug = True\n",
    "\n",
    "\n",
    "def modify_value(field, var, new_value):\n",
    "    \"\"\"\n",
    "    Modify the Z field in the GRIB file.\n",
    "    \"\"\"\n",
    "    for v in var:\n",
    "        if v in field.variables:\n",
    "            print(f\"Modifying variable {v} in the field\")\n",
    "            field[v].data = np.full(field[v].shape, new_value)\n",
    "    return field\n",
    "\n",
    "indir='/lus/h2resw01/hpcperm/ccpd/ECE4-DATA/oifs/TL63L31/19900101'\n",
    "climate_indir='/lus/h2resw01/hpcperm/ccpd/ECE4-DATA/oifs/TL63L31/climate.v020'\n",
    "#outdir='/lus/h2resw01/scratch/ccpd/OIFS-playground'\n",
    "outdir='/lus/h2resw01/hpcperm/ccpd/ECE4-DATA-test/oifs/TL63L31/19900101'\n",
    "climate_outdir='/lus/h2resw01/hpcperm/ccpd/ECE4-DATA-test/oifs/TL63L31/climate.v020'\n",
    "\n",
    "# modify albedo\n",
    "modify_single_grib(\n",
    "    inputfile=os.path.join(climate_indir,'ICMCLECE4'),\n",
    "    outputfile=os.path.join(climate_outdir,'ICMCLECE4_temp'),\n",
    "    variables=['al'],\n",
    "    spectral=False,\n",
    "    myfunction=modify_value,\n",
    "    new_value=0.15 \n",
    ")\n",
    "\n",
    "\n",
    "modify_single_grib(\n",
    "    inputfile=os.path.join(climate_outdir,'ICMCLECE4_temp'),\n",
    "    outputfile=os.path.join(climate_outdir,'ICMCLECE4_temp2'),\n",
    "    variables=['aluvp', 'aluvd', 'alnip', 'alnid'],\n",
    "    spectral=False,\n",
    "    myfunction=modify_value,\n",
    "    new_value=0.06\n",
    ")\n",
    "\n",
    "modify_single_grib(\n",
    "    inputfile=os.path.join(climate_outdir,'ICMCLECE_temp2'),\n",
    "    outputfile=os.path.join(climate_outdir,'ICMCLECE4'),\n",
    "    variables=['lai_lv', 'lai_hv'],\n",
    "    spectral=False,\n",
    "    myfunction=modify_value,\n",
    "    new_value=0.\n",
    ")\n",
    "\n",
    "# erase all orography\n",
    "modify_single_grib(\n",
    "    inputfile=os.path.join(indir,'ICMSHECE4INIT'),\n",
    "    outputfile=os.path.join(outdir,'ICMSHECE4INIT'),\n",
    "    variables='z',\n",
    "    spectral=True,\n",
    "    myfunction=modify_value,\n",
    "    new_value=0. \n",
    ")\n",
    "\n",
    "# erase all subgrid orography\n",
    "modify_single_grib(\n",
    "    inputfile=os.path.join(indir,'ICMGGECE4INIT'),\n",
    "    outputfile=os.path.join(outdir,'ICMGGECE4INIT'),\n",
    "    variables=['sdor', 'anor', 'isor', 'slor', 'lsm'],\n",
    "    spectral=False,\n",
    "    myfunction=modify_value,\n",
    "    new_value=0.  \n",
    ")\n",
    "\n",
    "modify_single_grib(\n",
    "    inputfile=os.path.join(indir,'ICMGGECE4INIUA'),\n",
    "    outputfile=os.path.join(outdir,'ICMGGECE4INIUA'),\n",
    "    variables='q',\n",
    "    spectral=False,\n",
    "    myfunction=modify_value,\n",
    "    new_value=0.  \n",
    ")\n",
    "\n",
    "\n",
    "# truncate spectral variables to first harmonic (mean value)\n",
    "truncate_grib_file(\n",
    "    inputfile=os.path.join(outdir,'ICMSHECE4INIT'),\n",
    "    variables=['t','d','vo','lnsp'],\n",
    "    outputfile=os.path.join(outdir,'ICMSHECE4INIT'),\n",
    ")"
   ]
  }
 ],
 "metadata": {
  "kernelspec": {
   "display_name": "Python 3",
   "language": "python",
   "name": "python3"
  },
  "language_info": {
   "codemirror_mode": {
    "name": "ipython",
    "version": 3
   },
   "file_extension": ".py",
   "mimetype": "text/x-python",
   "name": "python",
   "nbconvert_exporter": "python",
   "pygments_lexer": "ipython3",
   "version": "3.13.3"
  }
 },
 "nbformat": 4,
 "nbformat_minor": 5
}
