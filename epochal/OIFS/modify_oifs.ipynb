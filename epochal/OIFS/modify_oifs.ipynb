{
 "cells": [
  {
   "cell_type": "code",
   "execution_count": 1,
   "id": "6b11511c",
   "metadata": {},
   "outputs": [],
   "source": [
    "from eocene_creator import EoceneOIFS\n",
    "import xarray as xr\n",
    "\n",
    "eocene = EoceneOIFS(\n",
    "    idir=\"/lus/h2resw01/hpcperm//ecme3497/ece4-database\",\n",
    "    odir=\"/lus/h2resw01/hpcperm/ecme3497/ece4-database-eoc\",\n",
    "    herold=\"/lus/h2resw01/hpcperm/ecme3497/herold-et-al-2014/Supp\"\n",
    ")"
   ]
  },
  {
   "cell_type": "code",
   "execution_count": 2,
   "id": "3d359e3e",
   "metadata": {},
   "outputs": [
    {
     "name": "stdout",
     "output_type": "stream",
     "text": [
      "Converting to netcdf file /lus/h2resw01/hpcperm/ecme3497/ece4-database-eoc/oifs/TL63L31/19900101/ICMGGECE4INIT\n",
      "Modifying GRIB file /lus/h2resw01/hpcperm/ecme3497/ece4-database-eoc/oifs/TL63L31/19900101/ICMGGECE4INIT using function replace_value\n",
      "Replacing variable sdfor in the field\n",
      "Converting back to GRIB file /etc/ecmwf/ssd/ssd1/tmpdirs/ecme3497.2288646.20251028_131640.157/cdoPyi7r3h9mw\n",
      "Converting to netcdf file /lus/h2resw01/hpcperm//ecme3497/ece4-database/oifs/TL63L31/19900101/ICMGGECE4INIT\n",
      "Modifying GRIB file /lus/h2resw01/hpcperm//ecme3497/ece4-database/oifs/TL63L31/19900101/ICMGGECE4INIT using function modify_value\n",
      "Modifying variable anor in the field\n",
      "Modifying variable isor in the field\n",
      "Modifying variable slor in the field\n",
      "Modifying variable cl in the field\n",
      "Modifying variable chnk in the field\n",
      "Converting back to GRIB file /etc/ecmwf/ssd/ssd1/tmpdirs/ecme3497.2288646.20251028_131640.157/cdoPy13ha1_ai\n",
      "Nullifying variable ['sd'] in GRIB file /lus/h2resw01/hpcperm/ecme3497/ece4-database-eoc/oifs/TL63L31/19900101/ICMGGECE4INIT\n",
      "Converting to netcdf file /lus/h2resw01/hpcperm/ecme3497/ece4-database-eoc/oifs/TL63L31/19900101/ICMGGECE4INIT\n",
      "Modifying GRIB file /lus/h2resw01/hpcperm/ecme3497/ece4-database-eoc/oifs/TL63L31/19900101/ICMGGECE4INIT using function replace_value\n",
      "Replacing variable tvh in the field\n",
      "Converting back to GRIB file /etc/ecmwf/ssd/ssd1/tmpdirs/ecme3497.2288646.20251028_131640.157/cdoPy7jwxsuf6\n",
      "Converting to netcdf file /lus/h2resw01/hpcperm/ecme3497/ece4-database-eoc/oifs/TL63L31/19900101/ICMGGECE4INIT\n",
      "Modifying GRIB file /lus/h2resw01/hpcperm/ecme3497/ece4-database-eoc/oifs/TL63L31/19900101/ICMGGECE4INIT using function replace_value\n",
      "Replacing variable tvl in the field\n",
      "Converting back to GRIB file /etc/ecmwf/ssd/ssd1/tmpdirs/ecme3497.2288646.20251028_131640.157/cdoPyfz3ax5bp\n",
      "Converting to netcdf file /lus/h2resw01/hpcperm/ecme3497/ece4-database-eoc/oifs/TL63L31/19900101/ICMGGECE4INIT\n",
      "Modifying GRIB file /lus/h2resw01/hpcperm/ecme3497/ece4-database-eoc/oifs/TL63L31/19900101/ICMGGECE4INIT using function replace_value\n",
      "Replacing variable cvh in the field\n",
      "Converting back to GRIB file /etc/ecmwf/ssd/ssd1/tmpdirs/ecme3497.2288646.20251028_131640.157/cdoPyslbrff2u\n",
      "Converting to netcdf file /lus/h2resw01/hpcperm/ecme3497/ece4-database-eoc/oifs/TL63L31/19900101/ICMGGECE4INIT\n",
      "Modifying GRIB file /lus/h2resw01/hpcperm/ecme3497/ece4-database-eoc/oifs/TL63L31/19900101/ICMGGECE4INIT using function replace_value\n",
      "Replacing variable cvl in the field\n",
      "Converting back to GRIB file /etc/ecmwf/ssd/ssd1/tmpdirs/ecme3497.2288646.20251028_131640.157/cdoPyntgbinkp\n",
      "Converting to netcdf file /lus/h2resw01/hpcperm/ecme3497/ece4-database-eoc/oifs/TL63L31/19900101/ICMGGECE4INIT\n",
      "Modifying GRIB file /lus/h2resw01/hpcperm/ecme3497/ece4-database-eoc/oifs/TL63L31/19900101/ICMGGECE4INIT using function modify_value\n",
      "Modifying variable slt in the field\n",
      "Converting back to GRIB file /etc/ecmwf/ssd/ssd1/tmpdirs/ecme3497.2288646.20251028_131640.157/cdoPydbgk7q0f\n",
      "Converting to netcdf file /lus/h2resw01/hpcperm/ecme3497/ece4-database-eoc/oifs/TL63L31/19900101/ICMGGECE4INIT\n",
      "Modifying GRIB file /lus/h2resw01/hpcperm/ecme3497/ece4-database-eoc/oifs/TL63L31/19900101/ICMGGECE4INIT using function replace_value\n",
      "Replacing variable lsm in the field\n",
      "Converting back to GRIB file /etc/ecmwf/ssd/ssd1/tmpdirs/ecme3497.2288646.20251028_131640.157/cdoPy9spwu889\n"
     ]
    }
   ],
   "source": [
    "vegetation = xr.open_dataset(eocene.prepare_vegetation_zhang())\n",
    "landsea =xr.open_dataset(eocene.prepare_herold(flag=\"landsea_mask\"))\n",
    "sd_orog = xr.open_dataset(eocene.prepare_herold(flag=\"sd_orography\"))[\"sd_orography\"]\n",
    "sd_orog = sd_orog.fillna(0)\n",
    "eocene.create_init(landsea=landsea['landsea_mask'], tvl=vegetation['tvl'], tvh=vegetation['tvh'], cvl=vegetation['cvl'], cvh=vegetation['cvh'], sd_orog=sd_orog)"
   ]
  },
  {
   "cell_type": "code",
   "execution_count": 3,
   "id": "c7b4307f",
   "metadata": {},
   "outputs": [
    {
     "name": "stdout",
     "output_type": "stream",
     "text": [
      "→ Reading land-sea mask from /lus/h2resw01/hpcperm//ecme3497/ece4-database/oifs/TL63L31/19900101/ICMGGECE4INIT\n",
      "Land-sea mask prepared with shape (64, 128) and dims ('lat', 'lon')\n"
     ]
    }
   ],
   "source": [
    "# Prepare the present-day land-sea mask\n",
    "lsm_present = eocene.prepare_landsea_mask_present()"
   ]
  },
  {
   "cell_type": "code",
   "execution_count": 4,
   "id": "7fe00b19",
   "metadata": {},
   "outputs": [],
   "source": [
    "landsea=landsea['landsea_mask']"
   ]
  },
  {
   "cell_type": "code",
   "execution_count": 5,
   "id": "107b5a78",
   "metadata": {},
   "outputs": [
    {
     "name": "stdout",
     "output_type": "stream",
     "text": [
      "Converting to netcdf file /lus/h2resw01/hpcperm//ecme3497/ece4-database/oifs/TL63L31/climate.v020/ICMCLECE4\n",
      "Modifying GRIB file /lus/h2resw01/hpcperm//ecme3497/ece4-database/oifs/TL63L31/climate.v020/ICMCLECE4 using function albedo\n",
      "Applying combined Albedo reconstruction + Eocene mask...\n",
      "Albedo reconstruction complete.\n",
      "Eocene land-sea mask applied successfully.\n",
      "Combined modification complete, GRIB structure preserved.\n",
      "Converting back to GRIB file /etc/ecmwf/ssd/ssd1/tmpdirs/ecme3497.2288646.20251028_131640.157/cdoPyw_jcxzdl\n"
     ]
    },
    {
     "name": "stderr",
     "output_type": "stream",
     "text": [
      "/lus/h2resw01/hpcperm/ecme3497/github/ecearth-quests/epochal/OIFS/albedo.py:44: FutureWarning: The return type of `Dataset.dims` will be changed to return a set of dimension names in future, in order to be more consistent with `DataArray.dims`. To access a mapping from dimension names to lengths, please use `Dataset.sizes`.\n",
      "  ntime = field.dims[\"time\"]\n"
     ]
    }
   ],
   "source": [
    "eocene.create_climate(lsm_present, landsea)"
   ]
  },
  {
   "cell_type": "code",
   "execution_count": 6,
   "id": "f7ade532",
   "metadata": {},
   "outputs": [
    {
     "name": "stdout",
     "output_type": "stream",
     "text": [
      "<xarray.Dataset> Size: 3MB\n",
      "Dimensions:  (time: 12, lon: 128, lat: 64)\n",
      "Coordinates:\n",
      "  * time     (time) object 96B 9999-01-15 00:00:00 ... 9999-12-15 00:00:00\n",
      "  * lon      (lon) float64 1kB 0.0 2.812 5.625 8.438 ... 348.8 351.6 354.4 357.2\n",
      "  * lat      (lat) float64 512B 87.86 85.1 82.31 79.53 ... -82.31 -85.1 -87.86\n",
      "Data variables:\n",
      "    al       (time, lat, lon) float32 393kB ...\n",
      "    aluvp    (time, lat, lon) float32 393kB ...\n",
      "    aluvd    (time, lat, lon) float32 393kB ...\n",
      "    alnip    (time, lat, lon) float32 393kB ...\n",
      "    alnid    (time, lat, lon) float32 393kB ...\n",
      "    lai_lv   (time, lat, lon) float32 393kB ...\n",
      "    lai_hv   (time, lat, lon) float32 393kB ...\n",
      "Attributes:\n",
      "    CDI:          Climate Data Interface version 2.5.0 (https://mpimet.mpg.de...\n",
      "    Conventions:  CF-1.6\n",
      "    institution:  European Centre for Medium-Range Weather Forecasts\n",
      "    history:      Tue Oct 28 15:56:53 2025: cdo -O -s -f nc4 -remapnn,N32 -se...\n",
      "    CDO:          Climate Data Operators version 2.5.0 (https://mpimet.mpg.de...\n"
     ]
    },
    {
     "name": "stderr",
     "output_type": "stream",
     "text": [
      "/etc/ecmwf/ssd/ssd1/tmpdirs/ecme3497.2288646.20251028_131640.157/ipykernel_3894585/1615466590.py:35: SerializationWarning: Unable to decode time axis into full numpy.datetime64[ns] objects, continuing using cftime.datetime objects instead, reason: dates out of range. To silence this warning use a coarser resolution 'time_unit' or specify 'use_cftime=True'.\n",
      "  icmcl_remap = xr.open_dataset(\"/lus/h2resw01/hpcperm/ecme3497/ece4-database-eoc/oifs/TL63L31/climate.v020/ICMCLECE4_remap.nc\")\n"
     ]
    },
    {
     "data": {
      "image/png": "[encoded data removed]",
      "text/plain": [
       "<Figure size 640x480 with 2 Axes>"
      ]
     },
     "metadata": {},
     "output_type": "display_data"
    },
    {
     "name": "stdout",
     "output_type": "stream",
     "text": [
      "Temporary file 'ICMCLECE4_remap.nc' deleted successfully.\n"
     ]
    }
   ],
   "source": [
    "# 1- Load libraries\n",
    "import os\n",
    "import xarray as xr\n",
    "import numpy as np\n",
    "from cdo import Cdo\n",
    "from utils import modify_value, replace_value\n",
    "from utils import extract_grid_info, spectral2gaussian\n",
    "import shutil\n",
    "import tempfile\n",
    "import matplotlib.pyplot as plt\n",
    "from utils import GRIB2, NC4\n",
    "cdo = Cdo()\n",
    "\n",
    "icmcl_file = \"/home/ecme3497/hpcperm/ece4-database-eoc/oifs/TL63L31/climate.v020/ICMCLECE4\"\n",
    "icmcl_remap = \"/lus/h2resw01/hpcperm/ecme3497/ece4-database-eoc/oifs/TL63L31/climate.v020/ICMCLECE4_remap.nc\"\n",
    "\n",
    "# 3- Grid configuration\n",
    "resolution = \"TL63L31\"\n",
    "kind, spectral, _ = extract_grid_info(resolution)\n",
    "gaussian = spectral2gaussian(spectral, kind)\n",
    "\n",
    "# 4- Transform GRIB to NetCDF\n",
    "for infile, outfile in [(icmcl_file,\n",
    "                         icmcl_remap)]:\n",
    "    if os.path.exists(outfile):\n",
    "        os.remove(outfile)\n",
    "    cdo.remapnn(\n",
    "        f\"N{gaussian}\",\n",
    "        input=f\"-setgridtype,regular {infile}\",\n",
    "        output=outfile,\n",
    "        options=\"-f nc4\"\n",
    "    )\n",
    "\n",
    "# 5- Abro el archivo icmcl remapeado \n",
    "icmcl_remap = xr.open_dataset(\"/lus/h2resw01/hpcperm/ecme3497/ece4-database-eoc/oifs/TL63L31/climate.v020/ICMCLECE4_remap.nc\") \n",
    "\n",
    "# Mostrar información general \n",
    "print(icmcl_remap)\n",
    "\n",
    "icmcl_remap['al'].isel(time=5).plot(cmap='viridis')\n",
    "\n",
    "plt.title(\"albedo masked (time=0)\")\n",
    "plt.show()\n",
    "\n",
    "# Delete the temporary remapped file\n",
    "os.remove(\"/lus/h2resw01/hpcperm/ecme3497/ece4-database-eoc/oifs/TL63L31/climate.v020/ICMCLECE4_remap.nc\")\n",
    "print(\"Temporary file 'ICMCLECE4_remap.nc' deleted successfully.\")"
   ]
  },
  {
   "cell_type": "code",
   "execution_count": 13,
   "id": "ac20d445",
   "metadata": {},
   "outputs": [],
   "source": [
    "eocene.create_sic()\n",
    "eocene.create_sst()"
   ]
  },
  {
   "cell_type": "code",
   "execution_count": 14,
   "id": "3fdef010",
   "metadata": {},
   "outputs": [
    {
     "name": "stdout",
     "output_type": "stream",
     "text": [
      "Converting to netcdf file /lus/h2resw01/hpcperm//ecme3497/ece4-database/oifs/TL63L31/19900101/ICMSHECE4INIT\n",
      "Modifying GRIB file /lus/h2resw01/hpcperm//ecme3497/ece4-database/oifs/TL63L31/19900101/ICMSHECE4INIT using function replace_value\n",
      "Replacing variable z in the field\n",
      "Converting back to GRIB file /etc/ecmwf/ssd/ssd1/tmpdirs/ecme3497.1202079.20250528_120508.975/cdoPyctchtj1x\n",
      "t,d,vo,lnsp\n",
      "Converting to netcdf file /lus/h2resw01/hpcperm//ecme3497/ece4-database/oifs/TL63L31/19900101/ICMGGECE4INIUA\n",
      "Modifying GRIB file /lus/h2resw01/hpcperm//ecme3497/ece4-database/oifs/TL63L31/19900101/ICMGGECE4INIUA using function modify_value\n",
      "Modifying variable q in the field\n",
      "Converting back to GRIB file /etc/ecmwf/ssd/ssd1/tmpdirs/ecme3497.1202079.20250528_120508.975/cdoPyg1neyl84\n"
     ]
    }
   ],
   "source": [
    "\n",
    "orog = xr.open_dataset(eocene.prepare_herold(flag=\"orography\"))\n",
    "eocene.create_sh(orog=orog['orography'], )\n",
    "\n",
    "eocene.create_iniua()"
   ]
  },
  {
   "cell_type": "code",
   "execution_count": 17,
   "id": "5c4475db",
   "metadata": {},
   "outputs": [],
   "source": [
    "orog = xr.open_dataset(os.path.join(herold_dir, 'orography_remap.nc'))\n",
    "landsea = xr.open_dataset(os.path.join(herold_dir, 'landsea_mask_remap.nc'))"
   ]
  },
  {
   "cell_type": "code",
   "execution_count": 19,
   "id": "21acc151",
   "metadata": {},
   "outputs": [],
   "source": [
    "\n",
    "def generate_seasonal_sst(inputfile, outputfile, A=25, OFFSET=20, T0=5):\n",
    "    \"\"\"\n",
    "    Generate a seasonal SST latitudinal pattern and save it to a netCDF file.\n",
    "    Parameters:\n",
    "    - inputfile: Path to the input netCDF file.\n",
    "    - outputfile: Path to the output netCDF file.\n",
    "    - A: Amplitude of the latitudinal SST pattern.\n",
    "    - OFFSET: Phase offset in degree for the seasonal pattern.\n",
    "    - T0: Mean temperature.\n",
    "    \"\"\"\n",
    "\n",
    "    sstfield = xr.open_dataset(inputfile)\n",
    "    sstfield['tosbcs'].shape\n",
    "    lons = sstfield['lon'].values\n",
    "    lats = sstfield['lat'].values\n",
    "    lon2d, lat2d = np.meshgrid(lons, lats)\n",
    "\n",
    "    # Sinusoidal parameters\n",
    "    A = 25        # Amplitude in degrees Celsius\n",
    "    #B = 5      # Amplitude in degrees Celsius\n",
    "    #beta = 45    # Phase shift in degrees\n",
    "    k_lat = np.pi / 180    # frequency in lat direction\n",
    "    #k_lon = np.pi / 180 * 4    # frequency in lon direction\n",
    "    T0 = 5       # Mean temperature\n",
    "    OFFSET = 20\n",
    "\n",
    "    seasonal = np.cos(np.linspace(0,2*np.pi,num=13))[:-1]* OFFSET\n",
    "\n",
    "    # Create sinusoidal SST pattern\n",
    "    sst_pattern = []\n",
    "    for phasing in seasonal:\n",
    "        sst_pattern.append(A * np.pow(np.cos(k_lat * lat2d + np.pi/180* phasing), 2) + T0) #+ B * np.sin(k_lon * lon2d + np.pi/180*beta) + T0\n",
    "    sst_stack = np.stack(sst_pattern, axis=0)\n",
    "    stacksize = sstfield['tosbcs'].shape[0]\n",
    "    sst_broadcast = np.tile(sst_stack, ((stacksize+11)//12, 1, 1))[:stacksize]\n",
    "    sstfield['tosbcs'].data = sst_broadcast\n",
    "    #sst_broadcast = np.broadcast_to(sst_stack, sstfield['tosbcs'].shape)\n",
    "    #(sstfield['tosbcs'].isel(time=6)-sstfield['tosbcs'].isel(time=0)).plot()\n",
    "    if os.path.exists(outputfile):\n",
    "        os.remove(outputfile)\n",
    "    sstfield.to_netcdf(outputfile)\n",
    "\n",
    "generate_seasonal_sst(\n",
    "    inputfile=os.path.join(amip_indir, 'tosbcs_input4MIPs_SSTsAndSeaIce_CMIP_PCMDI-AMIP-1-1-3_gn_187001-201706.nc'),\n",
    "    outputfile=os.path.join(amip_outdir, 'tosbcs_input4MIPs_SSTsAndSeaIce_CMIP_PCMDI-AMIP-1-1-3_gn_187001-201706.nc')\n",
    ")\n"
   ]
  },
  {
   "cell_type": "code",
   "execution_count": null,
   "id": "dfc01d30",
   "metadata": {},
   "outputs": [
    {
     "name": "stdout",
     "output_type": "stream",
     "text": [
      "Converting to netcdf file /lus/h2resw01/hpcperm/ccpd/ECE4-DATA/oifs/TL63L31/19900101/ICMSHECE4INIT\n",
      "Modifying GRIB file /lus/h2resw01/hpcperm/ccpd/ECE4-DATA/oifs/TL63L31/19900101/ICMSHECE4INIT using function replace_value\n",
      "Replacing variable z in the field\n",
      "Converting back to GRIB file /lus/h2resw01/scratch/ccpd/cdoPye2wmemal\n",
      "t,d,vo,lnsp\n",
      "Converting to netcdf file /lus/h2resw01/hpcperm/ccpd/ECE4-DATA/oifs/TL63L31/19900101/ICMGGECE4INIT\n",
      "Modifying GRIB file /lus/h2resw01/hpcperm/ccpd/ECE4-DATA/oifs/TL63L31/19900101/ICMGGECE4INIT using function modify_value\n",
      "Modifying variable sdor in the field\n",
      "Modifying variable anor in the field\n",
      "Modifying variable isor in the field\n",
      "Modifying variable slor in the field\n",
      "Modifying variable cl in the field\n",
      "Modifying variable chnk in the field\n",
      "Modifying variable tvh in the field\n",
      "Modifying variable tvl in the field\n",
      "Modifying variable cvh in the field\n",
      "Modifying variable cvl in the field\n",
      "Converting back to GRIB file /lus/h2resw01/scratch/ccpd/cdoPyimakj1r9\n",
      "Converting to netcdf file /lus/h2resw01/hpcperm/ccpd/ECE4-DATA-test/oifs/TL63L31/19900101/ICMGGECE4INIT_temp\n",
      "Modifying GRIB file /lus/h2resw01/hpcperm/ccpd/ECE4-DATA-test/oifs/TL63L31/19900101/ICMGGECE4INIT_temp using function modify_value\n",
      "Modifying variable slt in the field\n",
      "Converting back to GRIB file /lus/h2resw01/scratch/ccpd/cdoPyg8xle7gf\n",
      "Converting to netcdf file /lus/h2resw01/hpcperm/ccpd/ECE4-DATA-test/oifs/TL63L31/19900101/ICMGGECE4INIT_temp1\n",
      "Modifying GRIB file /lus/h2resw01/hpcperm/ccpd/ECE4-DATA-test/oifs/TL63L31/19900101/ICMGGECE4INIT_temp1 using function replace_value\n",
      "Replacing variable lsm in the field\n",
      "Converting back to GRIB file /lus/h2resw01/scratch/ccpd/cdoPyjg147ft7\n",
      "Converting to netcdf file /lus/h2resw01/hpcperm/ccpd/ECE4-DATA/oifs/TL63L31/19900101/ICMGGECE4INIUA\n",
      "Modifying GRIB file /lus/h2resw01/hpcperm/ccpd/ECE4-DATA/oifs/TL63L31/19900101/ICMGGECE4INIUA using function modify_value\n",
      "Modifying variable q in the field\n",
      "Converting back to GRIB file /lus/h2resw01/scratch/ccpd/cdoPyt6t4i4g9\n"
     ]
    }
   ],
   "source": [
    "\n",
    "# erase all orography\n",
    "modify_single_grib(\n",
    "    inputfile=os.path.join(indir,'ICMSHECE4INIT'),\n",
    "    outputfile=os.path.join(outdir,'ICMSHECE4INIT'),\n",
    "    variables='z',\n",
    "    spectral=True,\n",
    "    myfunction=replace_value,\n",
    "    newfield=orog['orography']*9.81\n",
    "    #myfunction=modify_value,\n",
    "    #new_value=0. \n",
    ")\n",
    "\n",
    "# truncate spectral variables to first harmonic (mean value)\n",
    "truncate_grib_file(\n",
    "    inputfile=os.path.join(outdir,'ICMSHECE4INIT'),\n",
    "    variables=['t','d','vo','lnsp'],\n",
    "    outputfile=os.path.join(outdir,'ICMSHECE4INIT'),\n",
    ")\n",
    "\n",
    "# erase all subgrid orography\n",
    "modify_single_grib(\n",
    "    inputfile=os.path.join(indir,'ICMGGECE4INIT'),\n",
    "    outputfile=os.path.join(outdir,'ICMGGECE4INIT_temp'),\n",
    "    variables=['anor', 'isor', 'slor', 'cl', 'chnk'],\n",
    "    spectral=False,\n",
    "    myfunction=modify_value,\n",
    "    newvalue=0.  \n",
    ")\n",
    "\n",
    "# erase all subgrid orography\n",
    "modify_single_grib(\n",
    "    inputfile=os.path.join(outdir,'ICMGGECE4INIT_temp'),\n",
    "    outputfile=os.path.join(outdir,'ICMGGECE4INIT_temp1'),\n",
    "    variables=['slt'],\n",
    "    spectral=False,\n",
    "    myfunction=modify_value,\n",
    "    newvalue=3 \n",
    ")\n",
    "\n",
    "modify_single_grib(\n",
    "    inputfile=os.path.join(outdir,'ICMGGECE4INIT_temp1'),\n",
    "    outputfile=os.path.join(outdir,'ICMGGECE4INIT'),\n",
    "    variables=['lsm'],\n",
    "    spectral=False,\n",
    "    myfunction=replace_value,\n",
    "    newfield=landsea['landsea_mask']\n",
    ")\n",
    "\n",
    "# set humidity to 0\n",
    "# swlv1, swvl2, swvl3, swvl4 to be set 0\n",
    "#\n",
    "modify_single_grib(\n",
    "    inputfile=os.path.join(indir,'ICMGGECE4INIUA'),\n",
    "    outputfile=os.path.join(outdir,'ICMGGECE4INIUA'),\n",
    "    variables='q',\n",
    "    spectral=False,\n",
    "    myfunction=modify_value,\n",
    "    newvalue=0.  \n",
    ")\n",
    "\n",
    "\n",
    "\n"
   ]
  },
  {
   "cell_type": "code",
   "execution_count": 12,
   "id": "30b75e1f",
   "metadata": {},
   "outputs": [
    {
     "data": {
      "image/png": "[encoded data removed]",
      "text/plain": [
       "<Figure size 640x480 with 2 Axes>"
      ]
     },
     "metadata": {},
     "output_type": "display_data"
    }
   ],
   "source": [
    "import matplotlib.pyplot as plt\n",
    "veg = xr.open_dataset('/lus/h2resw01/hpcperm/ecme3497/ece4-database-eoc/oifs/TL63L31/19900101/ICMGG_vegetation.nc')\n",
    "veg['tvh'].plot()\n",
    "plt.title('High Vegetation Types (tvh)')\n",
    "plt.show()"
   ]
  },
  {
   "cell_type": "code",
   "execution_count": null,
   "id": "1795f005",
   "metadata": {},
   "outputs": [],
   "source": []
  }
 ],
 "metadata": {
  "kernelspec": {
   "display_name": "ece4",
   "language": "python",
   "name": "python3"
  },
  "language_info": {
   "codemirror_mode": {
    "name": "ipython",
    "version": 3
   },
   "file_extension": ".py",
   "mimetype": "text/x-python",
   "name": "python",
   "nbconvert_exporter": "python",
   "pygments_lexer": "ipython3",
   "version": "3.13.7"
  }
 },
 "nbformat": 4,
 "nbformat_minor": 5
}
