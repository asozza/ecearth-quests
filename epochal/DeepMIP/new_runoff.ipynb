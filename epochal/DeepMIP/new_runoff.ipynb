{
 "cells": [
  {
   "cell_type": "code",
   "execution_count": null,
   "id": "4da2e30c",
   "metadata": {},
   "outputs": [],
   "source": [
    "import os\n",
    "import xarray as xr\n",
    "\n",
    "PRESENT_DIR=\"/lus/h2resw01/hpcperm/ccpd/ECE4-DATA/nemo/climatology\"\n",
    "EOCENE_DIR=\"/lus/h2resw01/hpcperm/ccpd/ECE4-DATA-EOCENE/nemo/climatology\"\n",
    "\n",
    "iceberg_file=\"icbmlt_PALEORCA2.nc\"\n",
    "runoff_file=\"runoff_DaiTrenberth_PALEORCA2.nc\"\n",
    "iceshelf_file=\"isfmlt_par_PALEORCA2.nc\"\n",
    "\n",
    "#iceberg = xr.open_dataset(os.path.join(PRESENT_DIR, iceberg_file))\n",
    "#iceberg['icb_melt'] = iceberg['icb_melt'] * 0 \n",
    "#iceberg.to_netcdf(os.path.join(EOCENE_DIR, iceberg_file))\n",
    "\n",
    "runoff = xr.open_dataset(os.path.join(PRESENT_DIR, runoff_file))\n",
    "runoff['sorunoff'] = runoff['sorunoff'] * 0\n",
    "runoff['socoefr'] = runoff['socoefr'] * 0\n",
    "runoff.to_netcdf(os.path.join(EOCENE_DIR, runoff_file))\n",
    "\n",
    "#iceshelf = xr.open_dataset(os.path.join(PRESENT_DIR, iceshelf_file))\n",
    "#iceshelf['sornfisf'] = iceshelf['sornfisf'] * 0\n",
    "#iceshelf.to_netcdf(os.path.join(EOCENE_DIR, iceshelf_file))"
   ]
  }
 ],
 "metadata": {
  "kernelspec": {
   "display_name": "ecearth-quests",
   "language": "python",
   "name": "python3"
  },
  "language_info": {
   "codemirror_mode": {
    "name": "ipython",
    "version": 3
   },
   "file_extension": ".py",
   "mimetype": "text/x-python",
   "name": "python",
   "nbconvert_exporter": "python",
   "pygments_lexer": "ipython3",
   "version": "3.13.3"
  }
 },
 "nbformat": 4,
 "nbformat_minor": 5
}
