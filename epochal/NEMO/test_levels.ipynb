{
 "cells": [
  {
   "cell_type": "code",
   "execution_count": 24,
   "id": "5d5a51a7",
   "metadata": {},
   "outputs": [],
   "source": [
    "import xarray as xr\n",
    "import numpy as np\n",
    "from scipy.interpolate import interp1d"
   ]
  },
  {
   "cell_type": "code",
   "execution_count": 62,
   "id": "2cc0347c",
   "metadata": {},
   "outputs": [],
   "source": [
    "ds = xr.open_dataset('/Users/asozza/Documents/work/ecearth/data/nemo/initial/woa13-levitus.nc')"
   ]
  },
  {
   "cell_type": "code",
   "execution_count": 27,
   "id": "00acafd5",
   "metadata": {},
   "outputs": [],
   "source": [
    "domain1 = xr.open_dataset('/Users/asozza/Documents/work/ecearth/data/nemo/domain/eORCA1/domain_cfg.nc')"
   ]
  },
  {
   "cell_type": "code",
   "execution_count": 28,
   "id": "a9fb9848",
   "metadata": {},
   "outputs": [],
   "source": [
    "domain2 = xr.open_dataset('/Users/asozza/Documents/work/ecearth/data/nemo/domain/ORCA2/domain_cfg.nc')"
   ]
  },
  {
   "cell_type": "code",
   "execution_count": 30,
   "id": "d4ed90f9",
   "metadata": {},
   "outputs": [],
   "source": [
    "old_depths = domain1['nav_lev'].values\n",
    "new_depths = domain2['nav_lev'].values"
   ]
  },
  {
   "cell_type": "code",
   "execution_count": 74,
   "id": "8383cb09",
   "metadata": {},
   "outputs": [],
   "source": [
    "ds = ds.assign_coords(nav_lev=(\"z\", old_depths))"
   ]
  },
  {
   "cell_type": "code",
   "execution_count": 75,
   "id": "4a16f7da",
   "metadata": {},
   "outputs": [
    {
     "name": "stdout",
     "output_type": "stream",
     "text": [
      "Dataset contains 'nav_lev' coordinate.\n"
     ]
    }
   ],
   "source": [
    "if 'nav_lev' not in ds.coords:\n",
    "    print(\"Dataset does not contain 'nav_lev' coordinate.\")\n",
    "else:\n",
    "    print(\"Dataset contains 'nav_lev' coordinate.\")"
   ]
  },
  {
   "cell_type": "code",
   "execution_count": 34,
   "id": "1b0e9b25",
   "metadata": {},
   "outputs": [],
   "source": [
    "def vertical_interp(field, old_z, new_z):\n",
    "    # field: numpy array (..., z, ...)\n",
    "    interp_func = interp1d(old_z, field, axis=0, bounds_error=False, fill_value=\"extrapolate\")\n",
    "    return interp_func(new_z)"
   ]
  },
  {
   "cell_type": "code",
   "execution_count": 39,
   "id": "954a04d4",
   "metadata": {},
   "outputs": [],
   "source": [
    "# Select a single time index (e.g., t=0) to match the shape of old_depths along the interpolation axis\n",
    "field = interp1d(old_depths, ds['thetao'].isel(time_counter=0).values, axis=0, bounds_error=False, fill_value=\"extrapolate\")(new_depths)"
   ]
  },
  {
   "cell_type": "code",
   "execution_count": 52,
   "id": "c92f0f35",
   "metadata": {},
   "outputs": [],
   "source": [
    "interp_vars = {}\n",
    "for var in ['thetao', 'so']:\n",
    "    interp_data = []\n",
    "    for t in range(ds.sizes['time_counter']):\n",
    "        slice_t = ds[var].isel(time_counter=t).values\n",
    "        interp_slice = vertical_interp(slice_t, old_depths, new_depths)\n",
    "        interp_data.append(interp_slice)\n",
    "    interp_array = np.stack(interp_data, axis=0)\n",
    "    dims = (\"time_counter\", \"z\", \"y\", \"x\")\n",
    "    coords = {\"time_counter\": ds[\"time_counter\"], \"z\": new_depths, \"y\": ds[\"y\"], \"x\": ds[\"x\"]}\n",
    "    interp_vars[var] = xr.DataArray(interp_array, dims=dims, coords=coords, name=var)\n",
    "\n",
    "new_ds = xr.merge([interp_vars['thetao'], interp_vars['so']])"
   ]
  }
 ],
 "metadata": {
  "kernelspec": {
   "display_name": "ecearth-quests",
   "language": "python",
   "name": "python3"
  },
  "language_info": {
   "codemirror_mode": {
    "name": "ipython",
    "version": 3
   },
   "file_extension": ".py",
   "mimetype": "text/x-python",
   "name": "python",
   "nbconvert_exporter": "python",
   "pygments_lexer": "ipython3",
   "version": "3.13.3"
  }
 },
 "nbformat": 4,
 "nbformat_minor": 5
}
